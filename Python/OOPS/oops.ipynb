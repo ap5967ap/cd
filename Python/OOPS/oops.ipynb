{
 "cells": [
  {
   "cell_type": "code",
   "execution_count": 2,
   "metadata": {},
   "outputs": [
    {
     "name": "stdout",
     "output_type": "stream",
     "text": [
      "ADITYA\n",
      "47\n"
     ]
    }
   ],
   "source": [
    "class Item:\n",
    "    pass\n",
    "\n",
    "x=Item()\n",
    "x.name=\"ADITYA\"\n",
    "x.age=47\n",
    "print(x.name,x.age,sep=\"\\n\")"
   ]
  },
  {
   "cell_type": "code",
   "execution_count": 3,
   "metadata": {},
   "outputs": [
    {
     "name": "stdout",
     "output_type": "stream",
     "text": [
      "<class '__main__.Item'>\n"
     ]
    }
   ],
   "source": [
    "print(type(x))"
   ]
  },
  {
   "cell_type": "code",
   "execution_count": 3,
   "metadata": {},
   "outputs": [
    {
     "name": "stdout",
     "output_type": "stream",
     "text": [
      "6\n",
      "ADITYA\n"
     ]
    }
   ],
   "source": [
    "class Item:\n",
    "    def total_price(): #total_price(self) \n",
    "        pass\n",
    "    def __add__(self, other):\n",
    "        return self.age-other.age\n",
    "\n",
    "x=Item()\n",
    "x.name=\"ADITYA\"\n",
    "x.age=47\n",
    "y=Item()\n",
    "y.age=41\n",
    "c=x+y\n",
    "print(c)\n",
    "# print(x.total_price()) #ERROR\n",
    "# print(y.name) #ERROR\n",
    "print(x.name) #OK\n"
   ]
  },
  {
   "cell_type": "code",
   "execution_count": 13,
   "metadata": {},
   "outputs": [
    {
     "name": "stdout",
     "output_type": "stream",
     "text": [
      "The price of the item is 2529.0\n",
      "The price of the item is 414141414141414141414141414141414141414141414141414141414141414141414141414141414141414141\n"
     ]
    }
   ],
   "source": [
    "class Item:\n",
    "    def __init__(self,name:str,price:float):\n",
    "        self.name = name\n",
    "        self.price = price\n",
    "    def value(self):\n",
    "        return f'The price of the item is {self.price*45}'\n",
    "it=Item(\"hello\",56.2)\n",
    "# print(Item.value(it)) \n",
    "# same as\n",
    "print(it.value())\n",
    "# if we pass\n",
    "it1=Item(56,\"41\") #NO ERROR\n",
    "print(it1.value())"
   ]
  },
  {
   "cell_type": "code",
   "execution_count": 14,
   "metadata": {},
   "outputs": [
    {
     "ename": "AssertionError",
     "evalue": "Price must be greater than zero",
     "output_type": "error",
     "traceback": [
      "\u001b[1;31m---------------------------------------------------------------------------\u001b[0m",
      "\u001b[1;31mAssertionError\u001b[0m                            Traceback (most recent call last)",
      "Cell \u001b[1;32mIn [14], line 8\u001b[0m\n\u001b[0;32m      6\u001b[0m         \u001b[39mself\u001b[39m\u001b[39m.\u001b[39mprice \u001b[39m=\u001b[39m price\n\u001b[0;32m      7\u001b[0m         \u001b[39mself\u001b[39m\u001b[39m.\u001b[39mquantity \u001b[39m=\u001b[39m quantity\n\u001b[1;32m----> 8\u001b[0m x\u001b[39m=\u001b[39mItem(\u001b[39m\"\u001b[39;49m\u001b[39map\u001b[39;49m\u001b[39m\"\u001b[39;49m,\u001b[39m-\u001b[39;49m\u001b[39m14\u001b[39;49m,\u001b[39m-\u001b[39;49m\u001b[39m96\u001b[39;49m)\n",
      "Cell \u001b[1;32mIn [14], line 3\u001b[0m, in \u001b[0;36mItem.__init__\u001b[1;34m(self, name, price, quantity)\u001b[0m\n\u001b[0;32m      2\u001b[0m \u001b[39mdef\u001b[39;00m \u001b[39m__init__\u001b[39m(\u001b[39mself\u001b[39m,name:\u001b[39mstr\u001b[39m,price:\u001b[39mfloat\u001b[39m,quantity:\u001b[39m0\u001b[39m):\n\u001b[1;32m----> 3\u001b[0m     \u001b[39massert\u001b[39;00m price\u001b[39m>\u001b[39m\u001b[39m=\u001b[39m\u001b[39m0\u001b[39m, \u001b[39mf\u001b[39m\u001b[39m\"\u001b[39m\u001b[39mPrice must be greater than zero\u001b[39m\u001b[39m\"\u001b[39m\n\u001b[0;32m      4\u001b[0m     \u001b[39massert\u001b[39;00m quantity\u001b[39m>\u001b[39m\u001b[39m=\u001b[39m\u001b[39m0\u001b[39m, \u001b[39mf\u001b[39m\u001b[39m\"\u001b[39m\u001b[39mQuantity must be greater than zero\u001b[39m\u001b[39m\"\u001b[39m\n\u001b[0;32m      5\u001b[0m     \u001b[39mself\u001b[39m\u001b[39m.\u001b[39mname \u001b[39m=\u001b[39m name\n",
      "\u001b[1;31mAssertionError\u001b[0m: Price must be greater than zero"
     ]
    }
   ],
   "source": [
    "class Item:\n",
    "    def __init__(self,name:str,price:float,quantity:0):\n",
    "        assert price>=0, f\"Price must be greater than zero\"\n",
    "        assert quantity>=0, f\"Quantity must be greater than zero\"\n",
    "        self.name = name\n",
    "        self.price = price\n",
    "        self.quantity = quantity\n",
    "x=Item(\"ap\",-14,-96)"
   ]
  },
  {
   "cell_type": "code",
   "execution_count": 20,
   "metadata": {},
   "outputs": [
    {
     "name": "stdout",
     "output_type": "stream",
     "text": [
      "[<__main__.Item object at 0x000002E2F0106C20>, <__main__.Item object at 0x000002E2EFB882E0>, <__main__.Item object at 0x000002E2EFB72EF0>, <__main__.Item object at 0x000002E2EFB721A0>, <__main__.Item object at 0x000002E2EFB737C0>]\n",
      "Phone\n",
      "Laptop\n",
      "Cable\n",
      "Mouse\n",
      "Keyboard\n",
      "100\n",
      "1000\n",
      "10\n",
      "50\n",
      "75\n"
     ]
    }
   ],
   "source": [
    "# creating list to add objects in it\n",
    "class Item:\n",
    "    list_all=[]\n",
    "    pay_rate =0.8\n",
    "    def __init__(self,name:str,price:float,quantity:0):\n",
    "        assert price>=0, f\"Price must be greater than zero\"\n",
    "        assert quantity>=0, f\"Quantity must be greater than zero\"\n",
    "        self.name = name\n",
    "        self.price = price\n",
    "        self.quantity = quantity\n",
    "        Item.list_all.append(self)\n",
    "    def apply_discount(self):\n",
    "        self.price = self.price*Item.pay_rate\n",
    "    def exact_apply_discount(self):\n",
    "        self.price = self.price*self.pay_rate\n",
    "item1 = Item(\"Phone\", 100, 1)\n",
    "item2 = Item(\"Laptop\", 1000, 3)\n",
    "item3 = Item(\"Cable\", 10, 5)\n",
    "item4 = Item(\"Mouse\", 50, 5)\n",
    "item5 = Item(\"Keyboard\", 75, 5)\n",
    "print(Item.list_all)\n",
    "# to print names for all items\n",
    "for i in range(len(Item.list_all)):\n",
    "    print(Item.list_all[i].name)\n",
    "# or\n",
    "for i in Item.list_all:\n",
    "    print(i.price)"
   ]
  },
  {
   "cell_type": "code",
   "execution_count": null,
   "metadata": {},
   "outputs": [],
   "source": []
  }
 ],
 "metadata": {
  "kernelspec": {
   "display_name": "Python 3",
   "language": "python",
   "name": "python3"
  },
  "language_info": {
   "codemirror_mode": {
    "name": "ipython",
    "version": 3
   },
   "file_extension": ".py",
   "mimetype": "text/x-python",
   "name": "python",
   "nbconvert_exporter": "python",
   "pygments_lexer": "ipython3",
   "version": "3.10.9 (tags/v3.10.9:1dd9be6, Dec  6 2022, 20:01:21) [MSC v.1934 64 bit (AMD64)]"
  },
  "orig_nbformat": 4,
  "vscode": {
   "interpreter": {
    "hash": "f389eee305af4f8e6b58a879910ba6f668ddfe06e2dfdf2ff3f842b3dcc233e0"
   }
  }
 },
 "nbformat": 4,
 "nbformat_minor": 2
}
