{
 "cells": [
  {
   "cell_type": "code",
   "execution_count": 8,
   "metadata": {},
   "outputs": [
    {
     "name": "stdout",
     "output_type": "stream",
     "text": [
      "0.7\n",
      "0.7\n",
      "0.7\n"
     ]
    }
   ],
   "source": [
    "class Item:\n",
    "    rate=0.7\n",
    "    def __init__(self,name:str,price:float,quantity:0):\n",
    "        assert price>=0, f\"Price must be greater than zero\"\n",
    "        assert quantity>=0, f\"Quantity must be greater than zero\"\n",
    "        self.name = name\n",
    "        self.price = price\n",
    "        self.quantity = quantity\n",
    "x=Item(\"ap\",14,96)\n",
    "y=Item(\"paap\",41,11)\n",
    "print(Item.rate)\n",
    "print(x.rate)\n",
    "print(y.rate)"
   ]
  },
  {
   "cell_type": "code",
   "execution_count": 9,
   "metadata": {},
   "outputs": [
    {
     "name": "stdout",
     "output_type": "stream",
     "text": [
      "{'__module__': '__main__', 'rate': 0.7, '__init__': <function Item.__init__ at 0x0000011DBFD325F0>, '__dict__': <attribute '__dict__' of 'Item' objects>, '__weakref__': <attribute '__weakref__' of 'Item' objects>, '__doc__': None}\n"
     ]
    }
   ],
   "source": [
    "# to see all attributes\n",
    "print(Item.__dict__)"
   ]
  },
  {
   "cell_type": "code",
   "execution_count": 10,
   "metadata": {},
   "outputs": [
    {
     "name": "stdout",
     "output_type": "stream",
     "text": [
      "{'name': 'ap', 'price': 14, 'quantity': 96, 'touchpad': True}\n"
     ]
    }
   ],
   "source": [
    "x.touchpad=True\n",
    "print(x.__dict__)"
   ]
  },
  {
   "cell_type": "code",
   "execution_count": 12,
   "metadata": {},
   "outputs": [
    {
     "name": "stdout",
     "output_type": "stream",
     "text": [
      "0.8\n",
      "0.8\n",
      "0.4\n",
      "800.0 40.0\n"
     ]
    }
   ],
   "source": [
    "class Item:\n",
    "    pay_rate =0.8\n",
    "    def __init__(self,name:str,price:float,quantity:0):\n",
    "        assert price>=0, f\"Price must be greater than zero\"\n",
    "        assert quantity>=0, f\"Quantity must be greater than zero\"\n",
    "        self.name = name\n",
    "        self.price = price\n",
    "        self.quantity = quantity\n",
    "    def apply_discount(self):\n",
    "        self.price = self.price*Item.pay_rate\n",
    "    def exact_apply_discount(self):\n",
    "        self.price = self.price*self.pay_rate\n",
    "x=Item(\"ap\",1000,10)\n",
    "y=Item(\"Laptop\",100,3)\n",
    "y.pay_rate = 0.4\n",
    "print(Item.pay_rate)\n",
    "print(x.pay_rate)\n",
    "print(y.pay_rate)\n",
    "x.exact_apply_discount()\n",
    "y.exact_apply_discount()\n",
    "print(x.price, y.price)"
   ]
  },
  {
   "cell_type": "code",
   "execution_count": null,
   "metadata": {},
   "outputs": [],
   "source": []
  }
 ],
 "metadata": {
  "kernelspec": {
   "display_name": "Python 3",
   "language": "python",
   "name": "python3"
  },
  "language_info": {
   "codemirror_mode": {
    "name": "ipython",
    "version": 3
   },
   "file_extension": ".py",
   "mimetype": "text/x-python",
   "name": "python",
   "nbconvert_exporter": "python",
   "pygments_lexer": "ipython3",
   "version": "3.10.9"
  },
  "orig_nbformat": 4,
  "vscode": {
   "interpreter": {
    "hash": "f389eee305af4f8e6b58a879910ba6f668ddfe06e2dfdf2ff3f842b3dcc233e0"
   }
  }
 },
 "nbformat": 4,
 "nbformat_minor": 2
}
