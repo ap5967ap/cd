{
 "cells": [
  {
   "cell_type": "code",
   "execution_count": 2,
   "metadata": {},
   "outputs": [],
   "source": [
    "import csv"
   ]
  },
  {
   "cell_type": "code",
   "execution_count": 9,
   "metadata": {},
   "outputs": [
    {
     "name": "stdout",
     "output_type": "stream",
     "text": [
      "[<__main__.Item object at 0x000001B113274DC0>, <__main__.Item object at 0x000001B113277C40>, <__main__.Item object at 0x000001B1132771C0>, <__main__.Item object at 0x000001B113276FE0>, <__main__.Item object at 0x000001B113276BF0>]\n"
     ]
    }
   ],
   "source": [
    "class Item:\n",
    "    pay_rate =0.8\n",
    "    list_all=[]\n",
    "    def __init__(self,name:str,price:float,quantity:0):\n",
    "        assert price>=0, f\"Price must be greater than zero\"\n",
    "        assert quantity>=0, f\"Quantity must be greater than zero\"\n",
    "        self.name = name\n",
    "        self.price = price\n",
    "        self.quantity = quantity\n",
    "        Item.list_all.append(self)\n",
    "    def apply_discount(self):\n",
    "        self.price = self.price*Item.pay_rate\n",
    "    def exact_apply_discount(self):\n",
    "        self.price = self.price*self.pay_rate\n",
    "    @classmethod\n",
    "    def get_data_from_csv(cls):\n",
    "        with open('data.csv','r') as f:\n",
    "            reader = csv.DictReader(f)\n",
    "            items=list(reader) \n",
    "        for item in items:\n",
    "            Item (\n",
    "                name=item.get('name'),\n",
    "                price=float(item.get('price')),\n",
    "                quantity=float(item.get('quantity'))\n",
    "            )\n",
    "        \n",
    "Item.get_data_from_csv()\n",
    "print(Item.list_all)\n"
   ]
  },
  {
   "cell_type": "code",
   "execution_count": null,
   "metadata": {},
   "outputs": [],
   "source": []
  }
 ],
 "metadata": {
  "kernelspec": {
   "display_name": "Python 3",
   "language": "python",
   "name": "python3"
  },
  "language_info": {
   "codemirror_mode": {
    "name": "ipython",
    "version": 3
   },
   "file_extension": ".py",
   "mimetype": "text/x-python",
   "name": "python",
   "nbconvert_exporter": "python",
   "pygments_lexer": "ipython3",
   "version": "3.10.9"
  },
  "orig_nbformat": 4,
  "vscode": {
   "interpreter": {
    "hash": "f389eee305af4f8e6b58a879910ba6f668ddfe06e2dfdf2ff3f842b3dcc233e0"
   }
  }
 },
 "nbformat": 4,
 "nbformat_minor": 2
}
