{
 "cells": [
  {
   "cell_type": "code",
   "execution_count": 2,
   "metadata": {},
   "outputs": [],
   "source": [
    "import csv"
   ]
  },
  {
   "cell_type": "code",
   "execution_count": 3,
   "metadata": {},
   "outputs": [
    {
     "name": "stdout",
     "output_type": "stream",
     "text": [
      "[<__main__.Item object at 0x00000292625571F0>, <__main__.Item object at 0x0000029262557FD0>, <__main__.Item object at 0x0000029262557670>, <__main__.Item object at 0x0000029262557370>, <__main__.Item object at 0x0000029262553AF0>]\n"
     ]
    }
   ],
   "source": [
    "class Item:\n",
    "    pay_rate =0.8\n",
    "    list_all=[]\n",
    "    def __init__(self,name:str,price:float,quantity:0):\n",
    "        assert price>=0, f\"Price must be greater than zero\"\n",
    "        assert quantity>=0, f\"Quantity must be greater than zero\"\n",
    "        self.name = name\n",
    "        self.price = price\n",
    "        self.quantity = quantity\n",
    "        Item.list_all.append(self)\n",
    "    def apply_discount(self):\n",
    "        self.price = self.price*Item.pay_rate\n",
    "    def exact_apply_discount(self):\n",
    "        self.price = self.price*self.pay_rate\n",
    "    @classmethod\n",
    "    def get_data_from_csv(cls):\n",
    "        with open('data.csv','r') as f:\n",
    "            reader = csv.DictReader(f)\n",
    "            items=list(reader) \n",
    "        for item in items:\n",
    "            Item (\n",
    "                name=item.get('name'),\n",
    "                price=float(item.get('price')),\n",
    "                quantity=float(item.get('quantity'))\n",
    "            )\n",
    "        \n",
    "Item.get_data_from_csv()\n",
    "print(Item.list_all)\n"
   ]
  },
  {
   "cell_type": "code",
   "execution_count": 17,
   "metadata": {},
   "outputs": [
    {
     "name": "stdout",
     "output_type": "stream",
     "text": [
      "True\n"
     ]
    }
   ],
   "source": [
    "class Item:\n",
    "    pay_rate =0.8\n",
    "    list_all=[]\n",
    "    def __init__(self,name:str,price:float,quantity:0):\n",
    "        assert price>=0, f\"Price must be greater than zero\"\n",
    "        assert quantity>=0, f\"Quantity must be greater than zero\"\n",
    "        self.name = name\n",
    "        self.price = price\n",
    "        self.quantity = quantity\n",
    "        Item.list_all.append(self)\n",
    "    def apply_discount(self):\n",
    "        self.price = self.price*Item.pay_rate\n",
    "    def exact_apply_discount(self):\n",
    "        self.price = self.price*self.pay_rate\n",
    "    @classmethod\n",
    "    def get_data_from_csv(cls):\n",
    "        with open('data.csv','r') as f:\n",
    "            reader = csv.DictReader(f)\n",
    "            items=list(reader) \n",
    "        for item in items:\n",
    "            Item (\n",
    "                name=item.get('name'),\n",
    "                price=float(item.get('price')),\n",
    "                quantity=float(item.get('quantity'))\n",
    "            )\n",
    "    @staticmethod\n",
    "    def d(num):\n",
    "        if isinstance(num,float):\n",
    "            return num.is_integer()#checks if num is an integer \n",
    "        elif isinstance(num,int):\n",
    "            return True\n",
    "        else:\n",
    "            return False\n",
    "# Item.get_data_from_csv()\n",
    "print(Item.d(500.00))"
   ]
  },
  {
   "cell_type": "code",
   "execution_count": null,
   "metadata": {},
   "outputs": [],
   "source": [
    "# class vs staticmethod():\n",
    "# 1. staticmethod are not passing object Reference as the first argument\n",
    "#  staticmethod pass object values not as reference\n",
    "# while class methods pass reference"
   ]
  },
  {
   "cell_type": "code",
   "execution_count": null,
   "metadata": {},
   "outputs": [],
   "source": []
  }
 ],
 "metadata": {
  "kernelspec": {
   "display_name": "Python 3",
   "language": "python",
   "name": "python3"
  },
  "language_info": {
   "codemirror_mode": {
    "name": "ipython",
    "version": 3
   },
   "file_extension": ".py",
   "mimetype": "text/x-python",
   "name": "python",
   "nbconvert_exporter": "python",
   "pygments_lexer": "ipython3",
   "version": "3.10.9"
  },
  "orig_nbformat": 4,
  "vscode": {
   "interpreter": {
    "hash": "f389eee305af4f8e6b58a879910ba6f668ddfe06e2dfdf2ff3f842b3dcc233e0"
   }
  }
 },
 "nbformat": 4,
 "nbformat_minor": 2
}
