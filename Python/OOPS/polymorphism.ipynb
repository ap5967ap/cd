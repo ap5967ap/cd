{
 "cells": [
  {
   "cell_type": "code",
   "execution_count": 1,
   "metadata": {},
   "outputs": [
    {
     "name": "stdout",
     "output_type": "stream",
     "text": [
      "New Delhi is the capital of India.\n",
      "Hindi is the most widely spoken language of India.\n",
      "India is a developing country.\n",
      "Washington, D.C. is the capital of USA.\n",
      "English is the primary language of USA.\n",
      "USA is a developed country.\n"
     ]
    }
   ],
   "source": [
    "class India():\n",
    "\tdef capital(self):\n",
    "\t\tprint(\"New Delhi is the capital of India.\")\n",
    "\n",
    "\tdef language(self):\n",
    "\t\tprint(\"Hindi is the most widely spoken language of India.\")\n",
    "\n",
    "\tdef type(self):\n",
    "\t\tprint(\"India is a developing country.\")\n",
    "\n",
    "class USA():\n",
    "\tdef capital(self):\n",
    "\t\tprint(\"Washington, D.C. is the capital of USA.\")\n",
    "\n",
    "\tdef language(self):\n",
    "\t\tprint(\"English is the primary language of USA.\")\n",
    "\n",
    "\tdef type(self):\n",
    "\t\tprint(\"USA is a developed country.\")\n",
    "\n",
    "def func(obj):\n",
    "\tobj.capital()\n",
    "\tobj.language()\n",
    "\tobj.type()\n",
    "\n",
    "obj_ind = India()\n",
    "obj_usa = USA()\n",
    "\n",
    "func(obj_ind)\n",
    "func(obj_usa)\n"
   ]
  },
  {
   "cell_type": "code",
   "execution_count": 2,
   "metadata": {},
   "outputs": [
    {
     "name": "stdout",
     "output_type": "stream",
     "text": [
      "Woof!\n",
      "Meow!\n"
     ]
    }
   ],
   "source": [
    "class Animal:\n",
    "\tdef speak(self):\n",
    "\t\traise NotImplementedError(\"Subclass must implement this method\")\n",
    "\n",
    "class Dog(Animal):\n",
    "\tdef speak(self):\n",
    "\t\treturn \"Woof!\"\n",
    "\n",
    "class Cat(Animal):\n",
    "\tdef speak(self):\n",
    "\t\treturn \"Meow!\"\n",
    "\n",
    "# Create a list of Animal objects\n",
    "animals = [Dog(), Cat()]\n",
    "\n",
    "# Call the speak method on each object\n",
    "for animal in animals:\n",
    "\tprint(animal.speak())\n"
   ]
  },
  {
   "cell_type": "code",
   "execution_count": null,
   "metadata": {},
   "outputs": [],
   "source": []
  }
 ],
 "metadata": {
  "kernelspec": {
   "display_name": "Python 3",
   "language": "python",
   "name": "python3"
  },
  "language_info": {
   "codemirror_mode": {
    "name": "ipython",
    "version": 3
   },
   "file_extension": ".py",
   "mimetype": "text/x-python",
   "name": "python",
   "nbconvert_exporter": "python",
   "pygments_lexer": "ipython3",
   "version": "3.10.9"
  },
  "orig_nbformat": 4,
  "vscode": {
   "interpreter": {
    "hash": "f389eee305af4f8e6b58a879910ba6f668ddfe06e2dfdf2ff3f842b3dcc233e0"
   }
  }
 },
 "nbformat": 4,
 "nbformat_minor": 2
}
